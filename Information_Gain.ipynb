{
  "nbformat": 4,
  "nbformat_minor": 0,
  "metadata": {
    "colab": {
      "name": "Information Gain.ipynb",
      "provenance": [],
      "authorship_tag": "ABX9TyNmOFmd8Z6awx/mZ5AM45ZA",
      "include_colab_link": true
    },
    "kernelspec": {
      "name": "python3",
      "display_name": "Python 3"
    }
  },
  "cells": [
    {
      "cell_type": "markdown",
      "metadata": {
        "id": "view-in-github",
        "colab_type": "text"
      },
      "source": [
        "<a href=\"https://colab.research.google.com/github/Ammulator/Information-Gain/blob/main/Information_Gain.ipynb\" target=\"_parent\"><img src=\"https://colab.research.google.com/assets/colab-badge.svg\" alt=\"Open In Colab\"/></a>"
      ]
    },
    {
      "cell_type": "code",
      "metadata": {
        "id": "mCqWVsjK27_8",
        "colab": {
          "base_uri": "https://localhost:8080/"
        },
        "outputId": "20225b5c-b38e-433b-f380-bfda9cfc70d7"
      },
      "source": [
        "S = [int(x) for x in input().split()]\r\n",
        "A = [int(x) for x in input().split()]\r\n",
        "B = [int(x) for x in input().split()]\r\n",
        "s=len(S)\r\n",
        "a=len(A)\r\n",
        "b=len(B)\r\n",
        "ps=S.count(1)/s\r\n",
        "pa=A.count(1)/a\r\n",
        "pb=B.count(1)/b\r\n",
        "gs=2* ps* (1-ps)\r\n",
        "ga=2* pa* (1-pa)\r\n",
        "gb=2* pb* (1-pb)\r\n",
        "IG=gs-((a/s)*ga)-((b/s)*gb)\r\n",
        "print(\"Informatio Gain is: \",round(IG,5))"
      ],
      "execution_count": 4,
      "outputs": [
        {
          "output_type": "stream",
          "text": [
            "1 0 1 0 1 0\n",
            "1 1 1 \n",
            "0 0 0\n",
            "Informatio Gain is:  0.5\n"
          ],
          "name": "stdout"
        }
      ]
    }
  ]
}